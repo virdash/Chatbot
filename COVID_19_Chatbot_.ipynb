{
  "nbformat": 4,
  "nbformat_minor": 0,
  "metadata": {
    "colab": {
      "name": "COVID-19 Chatbot .ipynb",
      "provenance": [],
      "collapsed_sections": []
    },
    "kernelspec": {
      "name": "python3",
      "display_name": "Python 3"
    }
  },
  "cells": [
    {
      "cell_type": "code",
      "metadata": {
        "id": "jsoU_yrg1F1Z",
        "colab_type": "code",
        "colab": {}
      },
      "source": [
        "#Description: This is a 'self' learning chatbot program"
      ],
      "execution_count": 0,
      "outputs": []
    },
    {
      "cell_type": "code",
      "metadata": {
        "id": "hHKnfIVB1pRP",
        "colab_type": "code",
        "outputId": "94b317e7-ac20-4c2a-c3de-c60242e6d58e",
        "colab": {
          "base_uri": "https://localhost:8080/",
          "height": 51
        }
      },
      "source": [
        "#Install the package NLTK\n",
        "pip install nltk"
      ],
      "execution_count": 0,
      "outputs": [
        {
          "output_type": "stream",
          "text": [
            "Requirement already satisfied: nltk in /usr/local/lib/python3.6/dist-packages (3.2.5)\n",
            "Requirement already satisfied: six in /usr/local/lib/python3.6/dist-packages (from nltk) (1.12.0)\n"
          ],
          "name": "stdout"
        }
      ]
    },
    {
      "cell_type": "code",
      "metadata": {
        "id": "R1yvCNeQ2Dao",
        "colab_type": "code",
        "outputId": "051d8e0e-9d3d-49ac-cbf7-d9d3ee09d9b9",
        "colab": {
          "base_uri": "https://localhost:8080/",
          "height": 394
        }
      },
      "source": [
        "#Install the package newpaper3k\n",
        "pip install newspaper3k"
      ],
      "execution_count": 0,
      "outputs": [
        {
          "output_type": "stream",
          "text": [
            "Requirement already satisfied: newspaper3k in /usr/local/lib/python3.6/dist-packages (0.2.8)\n",
            "Requirement already satisfied: beautifulsoup4>=4.4.1 in /usr/local/lib/python3.6/dist-packages (from newspaper3k) (4.6.3)\n",
            "Requirement already satisfied: cssselect>=0.9.2 in /usr/local/lib/python3.6/dist-packages (from newspaper3k) (1.1.0)\n",
            "Requirement already satisfied: jieba3k>=0.35.1 in /usr/local/lib/python3.6/dist-packages (from newspaper3k) (0.35.1)\n",
            "Requirement already satisfied: PyYAML>=3.11 in /usr/local/lib/python3.6/dist-packages (from newspaper3k) (3.13)\n",
            "Requirement already satisfied: Pillow>=3.3.0 in /usr/local/lib/python3.6/dist-packages (from newspaper3k) (7.0.0)\n",
            "Requirement already satisfied: nltk>=3.2.1 in /usr/local/lib/python3.6/dist-packages (from newspaper3k) (3.2.5)\n",
            "Requirement already satisfied: tldextract>=2.0.1 in /usr/local/lib/python3.6/dist-packages (from newspaper3k) (2.2.2)\n",
            "Requirement already satisfied: tinysegmenter==0.3 in /usr/local/lib/python3.6/dist-packages (from newspaper3k) (0.3)\n",
            "Requirement already satisfied: feedfinder2>=0.0.4 in /usr/local/lib/python3.6/dist-packages (from newspaper3k) (0.0.4)\n",
            "Requirement already satisfied: requests>=2.10.0 in /usr/local/lib/python3.6/dist-packages (from newspaper3k) (2.21.0)\n",
            "Requirement already satisfied: feedparser>=5.2.1 in /usr/local/lib/python3.6/dist-packages (from newspaper3k) (5.2.1)\n",
            "Requirement already satisfied: lxml>=3.6.0 in /usr/local/lib/python3.6/dist-packages (from newspaper3k) (4.2.6)\n",
            "Requirement already satisfied: python-dateutil>=2.5.3 in /usr/local/lib/python3.6/dist-packages (from newspaper3k) (2.8.1)\n",
            "Requirement already satisfied: six in /usr/local/lib/python3.6/dist-packages (from nltk>=3.2.1->newspaper3k) (1.12.0)\n",
            "Requirement already satisfied: idna in /usr/local/lib/python3.6/dist-packages (from tldextract>=2.0.1->newspaper3k) (2.8)\n",
            "Requirement already satisfied: requests-file>=1.4 in /usr/local/lib/python3.6/dist-packages (from tldextract>=2.0.1->newspaper3k) (1.4.3)\n",
            "Requirement already satisfied: setuptools in /usr/local/lib/python3.6/dist-packages (from tldextract>=2.0.1->newspaper3k) (45.2.0)\n",
            "Requirement already satisfied: urllib3<1.25,>=1.21.1 in /usr/local/lib/python3.6/dist-packages (from requests>=2.10.0->newspaper3k) (1.24.3)\n",
            "Requirement already satisfied: chardet<3.1.0,>=3.0.2 in /usr/local/lib/python3.6/dist-packages (from requests>=2.10.0->newspaper3k) (3.0.4)\n",
            "Requirement already satisfied: certifi>=2017.4.17 in /usr/local/lib/python3.6/dist-packages (from requests>=2.10.0->newspaper3k) (2019.11.28)\n"
          ],
          "name": "stdout"
        }
      ]
    },
    {
      "cell_type": "code",
      "metadata": {
        "id": "T9Yq_97j2OiB",
        "colab_type": "code",
        "colab": {}
      },
      "source": [
        "#import libraries\n",
        "from newspaper import Article\n",
        "import random\n",
        "import string\n",
        "from sklearn.feature_extraction.text import TfidfVectorizer\n",
        "from sklearn.metrics.pairwise import cosine_similarity\n",
        "import nltk\n",
        "import numpy as np\n",
        "import warnings"
      ],
      "execution_count": 0,
      "outputs": []
    },
    {
      "cell_type": "code",
      "metadata": {
        "id": "ykGY6cas2-Dp",
        "colab_type": "code",
        "colab": {}
      },
      "source": [
        "#Ignore any warning messages\n",
        "warnings.filterwarnings('ignore')"
      ],
      "execution_count": 0,
      "outputs": []
    },
    {
      "cell_type": "code",
      "metadata": {
        "id": "ApLRovFK3VZ0",
        "colab_type": "code",
        "outputId": "738414f1-3e78-46f2-bd24-5253377364b4",
        "colab": {
          "base_uri": "https://localhost:8080/",
          "height": 34
        }
      },
      "source": [
        "#Download the packages from NLTK\n",
        "nltk.download('punkt', quiet=True)\n",
        "nltk.download('wordnet', quiet=True)"
      ],
      "execution_count": 0,
      "outputs": [
        {
          "output_type": "execute_result",
          "data": {
            "text/plain": [
              "True"
            ]
          },
          "metadata": {
            "tags": []
          },
          "execution_count": 10
        }
      ]
    },
    {
      "cell_type": "code",
      "metadata": {
        "id": "284Khq9E3pBV",
        "colab_type": "code",
        "outputId": "420612b0-d98e-42e6-cd96-709ed759d4f6",
        "colab": {
          "base_uri": "https://localhost:8080/",
          "height": 1000
        }
      },
      "source": [
        "#Get the article URL\n",
        "article = Article('https://www.mayoclinic.org/diseases-conditions/coronavirus/symptoms-causes/syc-20479963')\n",
        "article.download()\n",
        "article.parse()\n",
        "article.nlp()\n",
        "corpus = article.text\n",
        "\n",
        "#Print the corpus/text\n",
        "print(corpus)"
      ],
      "execution_count": 0,
      "outputs": [
        {
          "output_type": "stream",
          "text": [
            "Overview\n",
            "\n",
            "Coronavirus Open pop-up dialog box Close Coronavirus Coronavirus Coronavirus is a family of viruses that can cause respiratory illnesses such as the common cold, severe acute respiratory syndrome (SARS) and Middle East respiratory syndrome (MERS).\n",
            "\n",
            "Coronaviruses are a family of viruses that can cause illnesses such as the common cold, severe acute respiratory syndrome (SARS) and Middle East respiratory syndrome (MERS). In 2019, a new coronavirus was identified as the cause of a disease outbreak in China.\n",
            "\n",
            "The virus is now known as the severe acute respiratory syndrome coronavirus 2 (SARS-CoV-2). The disease it causes is called coronavirus disease 2019 (COVID-19).\n",
            "\n",
            "Cases of COVID-19 have been reported in a growing number of countries, including the U.S. Public health groups, such as the World Health Organization (WHO) and the U.S. Centers for Disease Control and Prevention (CDC), are monitoring the situation and posting updates on their websites. These groups have also issued recommendations for preventing and treating the illness.\n",
            "\n",
            "Symptoms\n",
            "\n",
            "Signs and symptoms of COVID-19 may appear two to 14 days after exposure and can include:\n",
            "\n",
            "Fever\n",
            "\n",
            "Cough\n",
            "\n",
            "Shortness of breath or difficulty breathing\n",
            "\n",
            "The severity of COVID-19 symptoms can range from very mild to severe. People who are older or have existing medical conditions, such as heart disease, may be at higher risk of serious illness. This is similar to what is seen with other respiratory illnesses, such as influenza.\n",
            "\n",
            "When to see a doctor\n",
            "\n",
            "Contact your doctor right away if you have COVID-19 symptoms and you've possibly been exposed to the virus. Tell your doctor if you've recently traveled internationally. Call your doctor ahead to tell him or her about your symptoms and recent travels and possible exposure before you go to your appointment.\n",
            "\n",
            "Causes\n",
            "\n",
            "It's unclear exactly how contagious the new coronavirus is. It appears to be spreading from person to person among those in close contact. It may be spread by respiratory droplets released when someone with the virus coughs or sneezes.\n",
            "\n",
            "Risk factors\n",
            "\n",
            "Risk factors for COVID-19 appear to include:\n",
            "\n",
            "Recent travel from or residence in an area with ongoing spread of COVID-19 as determined by CDC or WHO\n",
            "\n",
            "as determined by or Close contact with someone who has COVID-19 — such as when a family member or health care worker takes care of an infected person\n",
            "\n",
            "Prevention\n",
            "\n",
            "Although there is no vaccine available to prevent infection with the new coronavirus, you can take steps to reduce your risk of infection. WHO and CDC recommend following the standard precautions for avoiding respiratory viruses:\n",
            "\n",
            "Wash your hands often with soap and water, or use an alcohol-based hand sanitizer.\n",
            "\n",
            "Cover your mouth and nose with your elbow or tissue when you cough or sneeze.\n",
            "\n",
            "Avoid touching your eyes, nose and mouth if your hands aren't clean.\n",
            "\n",
            "Avoid close contact with anyone who is sick.\n",
            "\n",
            "Avoid sharing dishes, glasses, bedding and other household items if you're sick.\n",
            "\n",
            "Clean and disinfect surfaces you often touch.\n",
            "\n",
            "Stay home from work, school and public areas if you're sick.\n",
            "\n",
            "CDC doesn't recommend that healthy people wear a facemask to protect themselves from respiratory illnesses, including COVID-19 . Only wear a mask if a health care provider tells you to do so.\n",
            "\n",
            "WHO also recommends that you:\n",
            "\n",
            "Avoid eating raw or undercooked meat or animal organs.\n",
            "\n",
            "Avoid contact with live animals and surfaces they may have touched if you're visiting live markets in areas that have recently had new coronavirus cases.\n",
            "\n",
            "Travel\n"
          ],
          "name": "stdout"
        }
      ]
    },
    {
      "cell_type": "code",
      "metadata": {
        "id": "cTvKwGhS4bFk",
        "colab_type": "code",
        "outputId": "cdd78666-03a0-4327-c95b-3c140374c509",
        "colab": {
          "base_uri": "https://localhost:8080/",
          "height": 54
        }
      },
      "source": [
        "#Tokenization\n",
        "text = corpus\n",
        "sent_tokens = nltk.sent_tokenize(text) #Convert the text into a list of sentences\n",
        "\n",
        "#Print the list of sentences\n",
        "print(sent_tokens)"
      ],
      "execution_count": 0,
      "outputs": [
        {
          "output_type": "stream",
          "text": [
            "['Overview\\n\\nCoronavirus Open pop-up dialog box Close Coronavirus Coronavirus Coronavirus is a family of viruses that can cause respiratory illnesses such as the common cold, severe acute respiratory syndrome (SARS) and Middle East respiratory syndrome (MERS).', 'Coronaviruses are a family of viruses that can cause illnesses such as the common cold, severe acute respiratory syndrome (SARS) and Middle East respiratory syndrome (MERS).', 'In 2019, a new coronavirus was identified as the cause of a disease outbreak in China.', 'The virus is now known as the severe acute respiratory syndrome coronavirus 2 (SARS-CoV-2).', 'The disease it causes is called coronavirus disease 2019 (COVID-19).', 'Cases of COVID-19 have been reported in a growing number of countries, including the U.S. Public health groups, such as the World Health Organization (WHO) and the U.S. Centers for Disease Control and Prevention (CDC), are monitoring the situation and posting updates on their websites.', 'These groups have also issued recommendations for preventing and treating the illness.', 'Symptoms\\n\\nSigns and symptoms of COVID-19 may appear two to 14 days after exposure and can include:\\n\\nFever\\n\\nCough\\n\\nShortness of breath or difficulty breathing\\n\\nThe severity of COVID-19 symptoms can range from very mild to severe.', 'People who are older or have existing medical conditions, such as heart disease, may be at higher risk of serious illness.', 'This is similar to what is seen with other respiratory illnesses, such as influenza.', \"When to see a doctor\\n\\nContact your doctor right away if you have COVID-19 symptoms and you've possibly been exposed to the virus.\", \"Tell your doctor if you've recently traveled internationally.\", 'Call your doctor ahead to tell him or her about your symptoms and recent travels and possible exposure before you go to your appointment.', \"Causes\\n\\nIt's unclear exactly how contagious the new coronavirus is.\", 'It appears to be spreading from person to person among those in close contact.', 'It may be spread by respiratory droplets released when someone with the virus coughs or sneezes.', 'Risk factors\\n\\nRisk factors for COVID-19 appear to include:\\n\\nRecent travel from or residence in an area with ongoing spread of COVID-19 as determined by CDC or WHO\\n\\nas determined by or Close contact with someone who has COVID-19 — such as when a family member or health care worker takes care of an infected person\\n\\nPrevention\\n\\nAlthough there is no vaccine available to prevent infection with the new coronavirus, you can take steps to reduce your risk of infection.', 'WHO and CDC recommend following the standard precautions for avoiding respiratory viruses:\\n\\nWash your hands often with soap and water, or use an alcohol-based hand sanitizer.', 'Cover your mouth and nose with your elbow or tissue when you cough or sneeze.', \"Avoid touching your eyes, nose and mouth if your hands aren't clean.\", 'Avoid close contact with anyone who is sick.', \"Avoid sharing dishes, glasses, bedding and other household items if you're sick.\", 'Clean and disinfect surfaces you often touch.', \"Stay home from work, school and public areas if you're sick.\", \"CDC doesn't recommend that healthy people wear a facemask to protect themselves from respiratory illnesses, including COVID-19 .\", 'Only wear a mask if a health care provider tells you to do so.', 'WHO also recommends that you:\\n\\nAvoid eating raw or undercooked meat or animal organs.', \"Avoid contact with live animals and surfaces they may have touched if you're visiting live markets in areas that have recently had new coronavirus cases.\", 'Travel']\n"
          ],
          "name": "stdout"
        }
      ]
    },
    {
      "cell_type": "code",
      "metadata": {
        "id": "RU3R5zWG5GBV",
        "colab_type": "code",
        "outputId": "f471decc-459a-49ab-c5f9-af4001a418ee",
        "colab": {
          "base_uri": "https://localhost:8080/",
          "height": 71
        }
      },
      "source": [
        "#create a dictionary (key:value) pair to remove punctuations\n",
        "remove_punct_dict = dict( (ord(punct),None) for punct in string.punctuation)\n",
        "\n",
        "#Print the punctuation\n",
        "print(string.punctuation)\n",
        "\n",
        "#Print the dictionary\n",
        "print(remove_punct_dict)"
      ],
      "execution_count": 0,
      "outputs": [
        {
          "output_type": "stream",
          "text": [
            "!\"#$%&'()*+,-./:;<=>?@[\\]^_`{|}~\n",
            "{33: None, 34: None, 35: None, 36: None, 37: None, 38: None, 39: None, 40: None, 41: None, 42: None, 43: None, 44: None, 45: None, 46: None, 47: None, 58: None, 59: None, 60: None, 61: None, 62: None, 63: None, 64: None, 91: None, 92: None, 93: None, 94: None, 95: None, 96: None, 123: None, 124: None, 125: None, 126: None}\n"
          ],
          "name": "stdout"
        }
      ]
    },
    {
      "cell_type": "code",
      "metadata": {
        "id": "iR7kEQBS5qVU",
        "colab_type": "code",
        "outputId": "c60cbf90-721a-4af2-eaec-96bcf0883239",
        "colab": {
          "base_uri": "https://localhost:8080/",
          "height": 54
        }
      },
      "source": [
        "#Create a funtion to return a list of lemmatized lower case after removing punctuations\n",
        "def LemNormalize(text):\n",
        "  return nltk.word_tokenize(text.lower().translate(remove_punct_dict))\n",
        "\n",
        "#Print the tokenization text\n",
        "print(LemNormalize(text))"
      ],
      "execution_count": 0,
      "outputs": [
        {
          "output_type": "stream",
          "text": [
            "['overview', 'coronavirus', 'open', 'popup', 'dialog', 'box', 'close', 'coronavirus', 'coronavirus', 'coronavirus', 'is', 'a', 'family', 'of', 'viruses', 'that', 'can', 'cause', 'respiratory', 'illnesses', 'such', 'as', 'the', 'common', 'cold', 'severe', 'acute', 'respiratory', 'syndrome', 'sars', 'and', 'middle', 'east', 'respiratory', 'syndrome', 'mers', 'coronaviruses', 'are', 'a', 'family', 'of', 'viruses', 'that', 'can', 'cause', 'illnesses', 'such', 'as', 'the', 'common', 'cold', 'severe', 'acute', 'respiratory', 'syndrome', 'sars', 'and', 'middle', 'east', 'respiratory', 'syndrome', 'mers', 'in', '2019', 'a', 'new', 'coronavirus', 'was', 'identified', 'as', 'the', 'cause', 'of', 'a', 'disease', 'outbreak', 'in', 'china', 'the', 'virus', 'is', 'now', 'known', 'as', 'the', 'severe', 'acute', 'respiratory', 'syndrome', 'coronavirus', '2', 'sarscov2', 'the', 'disease', 'it', 'causes', 'is', 'called', 'coronavirus', 'disease', '2019', 'covid19', 'cases', 'of', 'covid19', 'have', 'been', 'reported', 'in', 'a', 'growing', 'number', 'of', 'countries', 'including', 'the', 'us', 'public', 'health', 'groups', 'such', 'as', 'the', 'world', 'health', 'organization', 'who', 'and', 'the', 'us', 'centers', 'for', 'disease', 'control', 'and', 'prevention', 'cdc', 'are', 'monitoring', 'the', 'situation', 'and', 'posting', 'updates', 'on', 'their', 'websites', 'these', 'groups', 'have', 'also', 'issued', 'recommendations', 'for', 'preventing', 'and', 'treating', 'the', 'illness', 'symptoms', 'signs', 'and', 'symptoms', 'of', 'covid19', 'may', 'appear', 'two', 'to', '14', 'days', 'after', 'exposure', 'and', 'can', 'include', 'fever', 'cough', 'shortness', 'of', 'breath', 'or', 'difficulty', 'breathing', 'the', 'severity', 'of', 'covid19', 'symptoms', 'can', 'range', 'from', 'very', 'mild', 'to', 'severe', 'people', 'who', 'are', 'older', 'or', 'have', 'existing', 'medical', 'conditions', 'such', 'as', 'heart', 'disease', 'may', 'be', 'at', 'higher', 'risk', 'of', 'serious', 'illness', 'this', 'is', 'similar', 'to', 'what', 'is', 'seen', 'with', 'other', 'respiratory', 'illnesses', 'such', 'as', 'influenza', 'when', 'to', 'see', 'a', 'doctor', 'contact', 'your', 'doctor', 'right', 'away', 'if', 'you', 'have', 'covid19', 'symptoms', 'and', 'youve', 'possibly', 'been', 'exposed', 'to', 'the', 'virus', 'tell', 'your', 'doctor', 'if', 'youve', 'recently', 'traveled', 'internationally', 'call', 'your', 'doctor', 'ahead', 'to', 'tell', 'him', 'or', 'her', 'about', 'your', 'symptoms', 'and', 'recent', 'travels', 'and', 'possible', 'exposure', 'before', 'you', 'go', 'to', 'your', 'appointment', 'causes', 'its', 'unclear', 'exactly', 'how', 'contagious', 'the', 'new', 'coronavirus', 'is', 'it', 'appears', 'to', 'be', 'spreading', 'from', 'person', 'to', 'person', 'among', 'those', 'in', 'close', 'contact', 'it', 'may', 'be', 'spread', 'by', 'respiratory', 'droplets', 'released', 'when', 'someone', 'with', 'the', 'virus', 'coughs', 'or', 'sneezes', 'risk', 'factors', 'risk', 'factors', 'for', 'covid19', 'appear', 'to', 'include', 'recent', 'travel', 'from', 'or', 'residence', 'in', 'an', 'area', 'with', 'ongoing', 'spread', 'of', 'covid19', 'as', 'determined', 'by', 'cdc', 'or', 'who', 'as', 'determined', 'by', 'or', 'close', 'contact', 'with', 'someone', 'who', 'has', 'covid19', '—', 'such', 'as', 'when', 'a', 'family', 'member', 'or', 'health', 'care', 'worker', 'takes', 'care', 'of', 'an', 'infected', 'person', 'prevention', 'although', 'there', 'is', 'no', 'vaccine', 'available', 'to', 'prevent', 'infection', 'with', 'the', 'new', 'coronavirus', 'you', 'can', 'take', 'steps', 'to', 'reduce', 'your', 'risk', 'of', 'infection', 'who', 'and', 'cdc', 'recommend', 'following', 'the', 'standard', 'precautions', 'for', 'avoiding', 'respiratory', 'viruses', 'wash', 'your', 'hands', 'often', 'with', 'soap', 'and', 'water', 'or', 'use', 'an', 'alcoholbased', 'hand', 'sanitizer', 'cover', 'your', 'mouth', 'and', 'nose', 'with', 'your', 'elbow', 'or', 'tissue', 'when', 'you', 'cough', 'or', 'sneeze', 'avoid', 'touching', 'your', 'eyes', 'nose', 'and', 'mouth', 'if', 'your', 'hands', 'arent', 'clean', 'avoid', 'close', 'contact', 'with', 'anyone', 'who', 'is', 'sick', 'avoid', 'sharing', 'dishes', 'glasses', 'bedding', 'and', 'other', 'household', 'items', 'if', 'youre', 'sick', 'clean', 'and', 'disinfect', 'surfaces', 'you', 'often', 'touch', 'stay', 'home', 'from', 'work', 'school', 'and', 'public', 'areas', 'if', 'youre', 'sick', 'cdc', 'doesnt', 'recommend', 'that', 'healthy', 'people', 'wear', 'a', 'facemask', 'to', 'protect', 'themselves', 'from', 'respiratory', 'illnesses', 'including', 'covid19', 'only', 'wear', 'a', 'mask', 'if', 'a', 'health', 'care', 'provider', 'tells', 'you', 'to', 'do', 'so', 'who', 'also', 'recommends', 'that', 'you', 'avoid', 'eating', 'raw', 'or', 'undercooked', 'meat', 'or', 'animal', 'organs', 'avoid', 'contact', 'with', 'live', 'animals', 'and', 'surfaces', 'they', 'may', 'have', 'touched', 'if', 'youre', 'visiting', 'live', 'markets', 'in', 'areas', 'that', 'have', 'recently', 'had', 'new', 'coronavirus', 'cases', 'travel']\n"
          ],
          "name": "stdout"
        }
      ]
    },
    {
      "cell_type": "code",
      "metadata": {
        "id": "YrcqHyxu7cXr",
        "colab_type": "code",
        "colab": {}
      },
      "source": [
        "#Keyword Matching\n",
        "\n",
        "#Greeting Inputs\n",
        "GREETING_INPUTS = [\"hi\", \"hello\", \"hola\", \"greetings\", \"wasup\", \"hey\"]\n",
        "\n",
        "#Greeting responses back to the user\n",
        "GREETING_RESPONSES = [\"howdy\", \"hi\", \"hey\", \"what's good\", \"hello\", \"hey there\"]\n",
        "\n",
        "#Function to return a random greeting response to a users greeting\n",
        "def greeting(sentence):\n",
        "  #if the user's input is a greeting response to a users greeting\n",
        "  for word in sentence.split():\n",
        "    if word.lower() in GREETING_INPUTS:\n",
        "      return random.choice(GREETING_RESPONSES)"
      ],
      "execution_count": 0,
      "outputs": []
    },
    {
      "cell_type": "code",
      "metadata": {
        "id": "r8oyauNz82Ha",
        "colab_type": "code",
        "colab": {}
      },
      "source": [
        "#Generate the response\n",
        "def response(user_response):\n",
        "\n",
        "\n",
        "  #The users response / query\n",
        "  #user_response = 'what is chronic kidney disease'\n",
        "\n",
        "  user_response = user_response.lower()\n",
        "\n",
        "  ###Print the users query/response\n",
        "  #print(user_response)\n",
        "\n",
        "\n",
        "  #Set the chatbot response to an empty string\n",
        "  robo_response = ''\n",
        "\n",
        "  #Append the users response to the sentence list  \n",
        "  sent_tokens.append(user_response)\n",
        "\n",
        "  ###Print the sentence list after appending the users response\n",
        "  #print(sent_tokens)\n",
        "\n",
        "  #Create a TfidfVectorizer Object\n",
        "  TfidfVec = TfidfVectorizer(tokenizer = LemNormalize, stop_words = 'english')\n",
        "\n",
        "  #Convert the text to a matrix of TF-IDF features\n",
        "  tfidf = TfidfVec.fit_transform(sent_tokens)\n",
        "\n",
        "  ###Print the TFIDF features\n",
        "  #print(tfidf)\n",
        "\n",
        "  #Get the measure of similarity\n",
        "  vals = cosine_similarity(tfidf[-1], tfidf)\n",
        "\n",
        "  ##print the similarty scores\n",
        "  #print(vals)\n",
        "\n",
        "  #Get the index of the most similar text/sentence to the useers response\n",
        "  idx = vals.argsort()[0][-2]\n",
        "\n",
        "  #Reduce the dimensionality of vals\n",
        "  flat = vals.flatten()\n",
        "\n",
        "  #sort the list in ascending order\n",
        "  flat.sort()\n",
        "\n",
        "  #Get the most similar score to the users response\n",
        "  score = flat[-2]\n",
        "\n",
        "  #Print the score \n",
        "  #print(score)\n",
        "\n",
        "  #If the variable 'score' is 0 then their is no text similar to the users response\n",
        "  if (score == 0):\n",
        "    robo_response = robo_response+\"I apologize, I don't understand.\"\n",
        "  else:\n",
        "    robo_response = robo_response+sent_tokens[idx]\n",
        "\n",
        "  ##Print the chatbot response\n",
        "  #print(robo_response)\n",
        "\n",
        "  #Remove the users response from the sentence tokens list\n",
        "  sent_tokens.remove(user_response)\n",
        "\n",
        "  return robo_response\n",
        "\n",
        "\n",
        "\n",
        "\n",
        "\n",
        "\n"
      ],
      "execution_count": 0,
      "outputs": []
    },
    {
      "cell_type": "code",
      "metadata": {
        "id": "oxH7lZr32wON",
        "colab_type": "code",
        "outputId": "cda6b6ad-2fe8-43d0-cba5-905acc8ca7b9",
        "colab": {
          "base_uri": "https://localhost:8080/",
          "height": 1000
        }
      },
      "source": [
        "flag= True\n",
        "print(\"COVIDDOCBOT: I'm Doctor or COVIDOC or DOCBOT for short. I will answer your queries about COVID-19 Virus. If you want to exit, type Bye!\")\n",
        "while(flag == True):\n",
        "  user_response = input()\n",
        "  user_response = user_response.lower()\n",
        "  if (user_response != 'bye'): \n",
        "    if(user_response == 'thanks' or user_response == 'thank you'):\n",
        "      flag = False\n",
        "      print(\"DOCBot: You are welcome !\")\n",
        "    else:\n",
        "      if(greeting(user_response)!=None):\n",
        "        print(\"DOCBot: \"+greeting(user_response))\n",
        "      else:\n",
        "        print(\"DOCBot: \"+response(user_response))\n",
        "\n",
        "  else:\n",
        "    flag = false\n",
        "    print(\"DOCBOT: Chat with you later !\")"
      ],
      "execution_count": 0,
      "outputs": [
        {
          "output_type": "stream",
          "text": [
            "COVIDDOCBOT: I'm Doctor or COVIDOC or DOCBOT for short. I will answer your queries about COVID-19 Virus. If you want to exit, type Bye!\n",
            "hello\n",
            "DOCBot: hi\n",
            "symptoms\n",
            "DOCBot: Symptoms\n",
            "\n",
            "Signs and symptoms of COVID-19 may appear two to 14 days after exposure and can include:\n",
            "\n",
            "Fever\n",
            "\n",
            "Cough\n",
            "\n",
            "Shortness of breath or difficulty breathing\n",
            "\n",
            "The severity of COVID-19 symptoms can range from very mild to severe.\n",
            "what are causes?\n",
            "DOCBot: Causes\n",
            "\n",
            "It's unclear exactly how contagious the new coronavirus is.\n",
            "risk\n",
            "DOCBot: Risk factors\n",
            "\n",
            "Risk factors for COVID-19 appear to include:\n",
            "\n",
            "Recent travel from or residence in an area with ongoing spread of COVID-19 as determined by CDC or WHO\n",
            "\n",
            "as determined by or Close contact with someone who has COVID-19 — such as when a family member or health care worker takes care of an infected person\n",
            "\n",
            "Prevention\n",
            "\n",
            "Although there is no vaccine available to prevent infection with the new coronavirus, you can take steps to reduce your risk of infection.\n"
          ],
          "name": "stdout"
        },
        {
          "output_type": "error",
          "ename": "KeyboardInterrupt",
          "evalue": "ignored",
          "traceback": [
            "\u001b[0;31m---------------------------------------------------------------------------\u001b[0m",
            "\u001b[0;31mKeyboardInterrupt\u001b[0m                         Traceback (most recent call last)",
            "\u001b[0;32m/usr/local/lib/python3.6/dist-packages/ipykernel/kernelbase.py\u001b[0m in \u001b[0;36m_input_request\u001b[0;34m(self, prompt, ident, parent, password)\u001b[0m\n\u001b[1;32m    729\u001b[0m             \u001b[0;32mtry\u001b[0m\u001b[0;34m:\u001b[0m\u001b[0;34m\u001b[0m\u001b[0;34m\u001b[0m\u001b[0m\n\u001b[0;32m--> 730\u001b[0;31m                 \u001b[0mident\u001b[0m\u001b[0;34m,\u001b[0m \u001b[0mreply\u001b[0m \u001b[0;34m=\u001b[0m \u001b[0mself\u001b[0m\u001b[0;34m.\u001b[0m\u001b[0msession\u001b[0m\u001b[0;34m.\u001b[0m\u001b[0mrecv\u001b[0m\u001b[0;34m(\u001b[0m\u001b[0mself\u001b[0m\u001b[0;34m.\u001b[0m\u001b[0mstdin_socket\u001b[0m\u001b[0;34m,\u001b[0m \u001b[0;36m0\u001b[0m\u001b[0;34m)\u001b[0m\u001b[0;34m\u001b[0m\u001b[0;34m\u001b[0m\u001b[0m\n\u001b[0m\u001b[1;32m    731\u001b[0m             \u001b[0;32mexcept\u001b[0m \u001b[0mException\u001b[0m\u001b[0;34m:\u001b[0m\u001b[0;34m\u001b[0m\u001b[0;34m\u001b[0m\u001b[0m\n",
            "\u001b[0;32m/usr/local/lib/python3.6/dist-packages/jupyter_client/session.py\u001b[0m in \u001b[0;36mrecv\u001b[0;34m(self, socket, mode, content, copy)\u001b[0m\n\u001b[1;32m    802\u001b[0m         \u001b[0;32mtry\u001b[0m\u001b[0;34m:\u001b[0m\u001b[0;34m\u001b[0m\u001b[0;34m\u001b[0m\u001b[0m\n\u001b[0;32m--> 803\u001b[0;31m             \u001b[0mmsg_list\u001b[0m \u001b[0;34m=\u001b[0m \u001b[0msocket\u001b[0m\u001b[0;34m.\u001b[0m\u001b[0mrecv_multipart\u001b[0m\u001b[0;34m(\u001b[0m\u001b[0mmode\u001b[0m\u001b[0;34m,\u001b[0m \u001b[0mcopy\u001b[0m\u001b[0;34m=\u001b[0m\u001b[0mcopy\u001b[0m\u001b[0;34m)\u001b[0m\u001b[0;34m\u001b[0m\u001b[0;34m\u001b[0m\u001b[0m\n\u001b[0m\u001b[1;32m    804\u001b[0m         \u001b[0;32mexcept\u001b[0m \u001b[0mzmq\u001b[0m\u001b[0;34m.\u001b[0m\u001b[0mZMQError\u001b[0m \u001b[0;32mas\u001b[0m \u001b[0me\u001b[0m\u001b[0;34m:\u001b[0m\u001b[0;34m\u001b[0m\u001b[0;34m\u001b[0m\u001b[0m\n",
            "\u001b[0;32m/usr/local/lib/python3.6/dist-packages/zmq/sugar/socket.py\u001b[0m in \u001b[0;36mrecv_multipart\u001b[0;34m(self, flags, copy, track)\u001b[0m\n\u001b[1;32m    465\u001b[0m         \"\"\"\n\u001b[0;32m--> 466\u001b[0;31m         \u001b[0mparts\u001b[0m \u001b[0;34m=\u001b[0m \u001b[0;34m[\u001b[0m\u001b[0mself\u001b[0m\u001b[0;34m.\u001b[0m\u001b[0mrecv\u001b[0m\u001b[0;34m(\u001b[0m\u001b[0mflags\u001b[0m\u001b[0;34m,\u001b[0m \u001b[0mcopy\u001b[0m\u001b[0;34m=\u001b[0m\u001b[0mcopy\u001b[0m\u001b[0;34m,\u001b[0m \u001b[0mtrack\u001b[0m\u001b[0;34m=\u001b[0m\u001b[0mtrack\u001b[0m\u001b[0;34m)\u001b[0m\u001b[0;34m]\u001b[0m\u001b[0;34m\u001b[0m\u001b[0;34m\u001b[0m\u001b[0m\n\u001b[0m\u001b[1;32m    467\u001b[0m         \u001b[0;31m# have first part already, only loop while more to receive\u001b[0m\u001b[0;34m\u001b[0m\u001b[0;34m\u001b[0m\u001b[0;34m\u001b[0m\u001b[0m\n",
            "\u001b[0;32mzmq/backend/cython/socket.pyx\u001b[0m in \u001b[0;36mzmq.backend.cython.socket.Socket.recv\u001b[0;34m()\u001b[0m\n",
            "\u001b[0;32mzmq/backend/cython/socket.pyx\u001b[0m in \u001b[0;36mzmq.backend.cython.socket.Socket.recv\u001b[0;34m()\u001b[0m\n",
            "\u001b[0;32mzmq/backend/cython/socket.pyx\u001b[0m in \u001b[0;36mzmq.backend.cython.socket._recv_copy\u001b[0;34m()\u001b[0m\n",
            "\u001b[0;32m/usr/local/lib/python3.6/dist-packages/zmq/backend/cython/checkrc.pxd\u001b[0m in \u001b[0;36mzmq.backend.cython.checkrc._check_rc\u001b[0;34m()\u001b[0m\n",
            "\u001b[0;31mKeyboardInterrupt\u001b[0m: ",
            "\nDuring handling of the above exception, another exception occurred:\n",
            "\u001b[0;31mKeyboardInterrupt\u001b[0m                         Traceback (most recent call last)",
            "\u001b[0;32m<ipython-input-17-57c5a27a5ec4>\u001b[0m in \u001b[0;36m<module>\u001b[0;34m()\u001b[0m\n\u001b[1;32m      2\u001b[0m \u001b[0mprint\u001b[0m\u001b[0;34m(\u001b[0m\u001b[0;34m\"COVIDDOCBOT: I'm Doctor or COVIDOC or DOCBOT for short. I will answer your queries about COVID-19 Virus. If you want to exit, type Bye!\"\u001b[0m\u001b[0;34m)\u001b[0m\u001b[0;34m\u001b[0m\u001b[0;34m\u001b[0m\u001b[0m\n\u001b[1;32m      3\u001b[0m \u001b[0;32mwhile\u001b[0m\u001b[0;34m(\u001b[0m\u001b[0mflag\u001b[0m \u001b[0;34m==\u001b[0m \u001b[0;32mTrue\u001b[0m\u001b[0;34m)\u001b[0m\u001b[0;34m:\u001b[0m\u001b[0;34m\u001b[0m\u001b[0;34m\u001b[0m\u001b[0m\n\u001b[0;32m----> 4\u001b[0;31m   \u001b[0muser_response\u001b[0m \u001b[0;34m=\u001b[0m \u001b[0minput\u001b[0m\u001b[0;34m(\u001b[0m\u001b[0;34m)\u001b[0m\u001b[0;34m\u001b[0m\u001b[0;34m\u001b[0m\u001b[0m\n\u001b[0m\u001b[1;32m      5\u001b[0m   \u001b[0muser_response\u001b[0m \u001b[0;34m=\u001b[0m \u001b[0muser_response\u001b[0m\u001b[0;34m.\u001b[0m\u001b[0mlower\u001b[0m\u001b[0;34m(\u001b[0m\u001b[0;34m)\u001b[0m\u001b[0;34m\u001b[0m\u001b[0;34m\u001b[0m\u001b[0m\n\u001b[1;32m      6\u001b[0m   \u001b[0;32mif\u001b[0m \u001b[0;34m(\u001b[0m\u001b[0muser_response\u001b[0m \u001b[0;34m!=\u001b[0m \u001b[0;34m'bye'\u001b[0m\u001b[0;34m)\u001b[0m\u001b[0;34m:\u001b[0m\u001b[0;34m\u001b[0m\u001b[0;34m\u001b[0m\u001b[0m\n",
            "\u001b[0;32m/usr/local/lib/python3.6/dist-packages/ipykernel/kernelbase.py\u001b[0m in \u001b[0;36mraw_input\u001b[0;34m(self, prompt)\u001b[0m\n\u001b[1;32m    703\u001b[0m             \u001b[0mself\u001b[0m\u001b[0;34m.\u001b[0m\u001b[0m_parent_ident\u001b[0m\u001b[0;34m,\u001b[0m\u001b[0;34m\u001b[0m\u001b[0;34m\u001b[0m\u001b[0m\n\u001b[1;32m    704\u001b[0m             \u001b[0mself\u001b[0m\u001b[0;34m.\u001b[0m\u001b[0m_parent_header\u001b[0m\u001b[0;34m,\u001b[0m\u001b[0;34m\u001b[0m\u001b[0;34m\u001b[0m\u001b[0m\n\u001b[0;32m--> 705\u001b[0;31m             \u001b[0mpassword\u001b[0m\u001b[0;34m=\u001b[0m\u001b[0;32mFalse\u001b[0m\u001b[0;34m,\u001b[0m\u001b[0;34m\u001b[0m\u001b[0;34m\u001b[0m\u001b[0m\n\u001b[0m\u001b[1;32m    706\u001b[0m         )\n\u001b[1;32m    707\u001b[0m \u001b[0;34m\u001b[0m\u001b[0m\n",
            "\u001b[0;32m/usr/local/lib/python3.6/dist-packages/ipykernel/kernelbase.py\u001b[0m in \u001b[0;36m_input_request\u001b[0;34m(self, prompt, ident, parent, password)\u001b[0m\n\u001b[1;32m    733\u001b[0m             \u001b[0;32mexcept\u001b[0m \u001b[0mKeyboardInterrupt\u001b[0m\u001b[0;34m:\u001b[0m\u001b[0;34m\u001b[0m\u001b[0;34m\u001b[0m\u001b[0m\n\u001b[1;32m    734\u001b[0m                 \u001b[0;31m# re-raise KeyboardInterrupt, to truncate traceback\u001b[0m\u001b[0;34m\u001b[0m\u001b[0;34m\u001b[0m\u001b[0;34m\u001b[0m\u001b[0m\n\u001b[0;32m--> 735\u001b[0;31m                 \u001b[0;32mraise\u001b[0m \u001b[0mKeyboardInterrupt\u001b[0m\u001b[0;34m\u001b[0m\u001b[0;34m\u001b[0m\u001b[0m\n\u001b[0m\u001b[1;32m    736\u001b[0m             \u001b[0;32melse\u001b[0m\u001b[0;34m:\u001b[0m\u001b[0;34m\u001b[0m\u001b[0;34m\u001b[0m\u001b[0m\n\u001b[1;32m    737\u001b[0m                 \u001b[0;32mbreak\u001b[0m\u001b[0;34m\u001b[0m\u001b[0;34m\u001b[0m\u001b[0m\n",
            "\u001b[0;31mKeyboardInterrupt\u001b[0m: "
          ]
        }
      ]
    },
    {
      "cell_type": "code",
      "metadata": {
        "id": "j8N9ZGfJVdyG",
        "colab_type": "code",
        "colab": {}
      },
      "source": [
        ""
      ],
      "execution_count": 0,
      "outputs": []
    }
  ]
}